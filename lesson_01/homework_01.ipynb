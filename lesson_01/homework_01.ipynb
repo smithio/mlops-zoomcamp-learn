{
 "cells": [
  {
   "cell_type": "code",
   "execution_count": 1,
   "id": "378204c1-bd57-4155-a5b6-36bb8943abea",
   "metadata": {},
   "outputs": [],
   "source": [
    "import pandas as pd\n",
    "from sklearn.feature_extraction import DictVectorizer\n",
    "from sklearn.linear_model import LinearRegression\n",
    "from sklearn.metrics import mean_squared_error"
   ]
  },
  {
   "cell_type": "code",
   "execution_count": 3,
   "id": "0131974d-9481-4c0b-ad4d-66e8efdef5ed",
   "metadata": {},
   "outputs": [
    {
     "name": "stdout",
     "output_type": "stream",
     "text": [
      "Collecting pyarrow\n",
      "  Downloading pyarrow-8.0.0-cp39-cp39-manylinux_2_17_x86_64.manylinux2014_x86_64.whl (29.4 MB)\n",
      "\u001b[K     |████████████████████████████████| 29.4 MB 30.8 MB/s eta 0:00:01\n",
      "\u001b[?25hRequirement already satisfied: numpy>=1.16.6 in /home/ubuntu/anaconda3/lib/python3.9/site-packages (from pyarrow) (1.21.5)\n",
      "Installing collected packages: pyarrow\n",
      "Successfully installed pyarrow-8.0.0\n"
     ]
    }
   ],
   "source": [
    "# !pip install pyarrow"
   ]
  },
  {
   "cell_type": "markdown",
   "id": "9d2a19c7-a045-4c91-8421-2d1135159097",
   "metadata": {},
   "source": [
    "#### 1. Load the data"
   ]
  },
  {
   "cell_type": "code",
   "execution_count": 2,
   "id": "ab90603b-0514-492d-b1c0-08bf7e32d5c8",
   "metadata": {},
   "outputs": [],
   "source": [
    "data_202101 = pd.read_parquet('../data/fhv_tripdata_2021-01.parquet')\n",
    "data_202102 = pd.read_parquet('../data/fhv_tripdata_2021-02.parquet')"
   ]
  },
  {
   "cell_type": "code",
   "execution_count": 3,
   "id": "37141708-04fb-4cf4-ad49-6e68223b7dcf",
   "metadata": {},
   "outputs": [
    {
     "data": {
      "text/plain": [
       "(1154112, 7)"
      ]
     },
     "execution_count": 3,
     "metadata": {},
     "output_type": "execute_result"
    }
   ],
   "source": [
    "# question 1\n",
    "data_202101.shape"
   ]
  },
  {
   "cell_type": "markdown",
   "id": "df8ddc16-f9f5-415d-92d9-1e1d964c4653",
   "metadata": {},
   "source": [
    "#### 2. Feature engineering"
   ]
  },
  {
   "cell_type": "code",
   "execution_count": 3,
   "id": "a97ee71d-0da8-4295-a86e-153e8e6c6e5f",
   "metadata": {},
   "outputs": [],
   "source": [
    "data_202101['duration'] = (data_202101.dropOff_datetime - data_202101.pickup_datetime).dt.total_seconds() / 60"
   ]
  },
  {
   "cell_type": "code",
   "execution_count": 48,
   "id": "82fc54bc-21f8-42e2-8148-e84b8c3b2b06",
   "metadata": {},
   "outputs": [
    {
     "data": {
      "text/plain": [
       "19.1672240937939"
      ]
     },
     "execution_count": 48,
     "metadata": {},
     "output_type": "execute_result"
    }
   ],
   "source": [
    "# question 2\n",
    "data_202101['duration'].mean()"
   ]
  },
  {
   "cell_type": "code",
   "execution_count": 4,
   "id": "0e06e3c7-102e-495d-b14f-03cb36885e20",
   "metadata": {},
   "outputs": [],
   "source": [
    "data_202101 = data_202101.loc[data_202101['duration'].between(1, 60), :]"
   ]
  },
  {
   "cell_type": "code",
   "execution_count": 7,
   "id": "b186b2b5-f12e-4ed2-83bb-4df7c46efccc",
   "metadata": {},
   "outputs": [
    {
     "data": {
      "text/plain": [
       "(1109826, 8)"
      ]
     },
     "execution_count": 7,
     "metadata": {},
     "output_type": "execute_result"
    }
   ],
   "source": [
    "data_202101.shape"
   ]
  },
  {
   "cell_type": "markdown",
   "id": "2bf6d887-b5f6-48e3-b52c-489a0ed2d5b7",
   "metadata": {},
   "source": [
    "#### 3. Preprocessing"
   ]
  },
  {
   "cell_type": "code",
   "execution_count": 5,
   "id": "4eaf0f9a-b1f2-4e03-9323-4fe5ee0a7596",
   "metadata": {},
   "outputs": [],
   "source": [
    "model_feats = ['PUlocationID', 'DOlocationID']"
   ]
  },
  {
   "cell_type": "code",
   "execution_count": 6,
   "id": "c62c1801-2490-43bf-bbd2-a8f97bffb438",
   "metadata": {},
   "outputs": [],
   "source": [
    "for model_feat in model_feats:\n",
    "    data_202101[model_feats] = data_202101[model_feats].fillna(-1)"
   ]
  },
  {
   "cell_type": "code",
   "execution_count": 52,
   "id": "941a3984-b2fc-411d-879e-c4bc41285086",
   "metadata": {},
   "outputs": [
    {
     "data": {
      "text/plain": [
       "0.8352732770722617"
      ]
     },
     "execution_count": 52,
     "metadata": {},
     "output_type": "execute_result"
    }
   ],
   "source": [
    "# question 3\n",
    "data_202101['PUlocationID'].value_counts(normalize=True)[-1]"
   ]
  },
  {
   "cell_type": "code",
   "execution_count": 7,
   "id": "c0ada71e-c474-422d-8124-e84e727b9564",
   "metadata": {},
   "outputs": [],
   "source": [
    "feature_dicts = data_202101[model_feats].astype(str).to_dict(orient='records')"
   ]
  },
  {
   "cell_type": "code",
   "execution_count": 8,
   "id": "f98cf6cf-8ec3-4fb7-ba86-16a30822335a",
   "metadata": {},
   "outputs": [],
   "source": [
    "dv = DictVectorizer(sparse=False)"
   ]
  },
  {
   "cell_type": "code",
   "execution_count": 9,
   "id": "6d290a8a-d5a0-4d9d-8dca-eadf0086504f",
   "metadata": {},
   "outputs": [],
   "source": [
    "feats_dv = dv.fit_transform(feature_dicts)"
   ]
  },
  {
   "cell_type": "code",
   "execution_count": 57,
   "id": "77cd519d-070f-46f2-945a-54100a572eea",
   "metadata": {},
   "outputs": [
    {
     "data": {
      "text/plain": [
       "(1109826, 525)"
      ]
     },
     "execution_count": 57,
     "metadata": {},
     "output_type": "execute_result"
    }
   ],
   "source": [
    "# question 4\n",
    "feats_dv.shape"
   ]
  },
  {
   "cell_type": "markdown",
   "id": "24887b26-e640-4caf-b9ce-6328e538fbde",
   "metadata": {},
   "source": [
    "#### 4. ML Model"
   ]
  },
  {
   "cell_type": "code",
   "execution_count": 10,
   "id": "8ef39500-8e20-4422-9fda-e622e5c41489",
   "metadata": {},
   "outputs": [],
   "source": [
    "X = feats_dv\n",
    "y = data_202101['duration']"
   ]
  },
  {
   "cell_type": "code",
   "execution_count": 13,
   "id": "c6c5f8cf-a2cf-4daa-a0f3-6a9d16d6ec07",
   "metadata": {},
   "outputs": [],
   "source": [
    "lr = LinearRegression()"
   ]
  },
  {
   "cell_type": "code",
   "execution_count": null,
   "id": "5c30587a-072a-47e1-91dd-fb2a13f0528e",
   "metadata": {},
   "outputs": [],
   "source": [
    "lr.fit(X, y)"
   ]
  },
  {
   "cell_type": "code",
   "execution_count": null,
   "id": "d3af9a53-acf6-4c89-aee1-3126876d1b2f",
   "metadata": {},
   "outputs": [],
   "source": []
  }
 ],
 "metadata": {
  "kernelspec": {
   "display_name": "Python 3 (ipykernel)",
   "language": "python",
   "name": "python3"
  },
  "language_info": {
   "codemirror_mode": {
    "name": "ipython",
    "version": 3
   },
   "file_extension": ".py",
   "mimetype": "text/x-python",
   "name": "python",
   "nbconvert_exporter": "python",
   "pygments_lexer": "ipython3",
   "version": "3.9.12"
  }
 },
 "nbformat": 4,
 "nbformat_minor": 5
}
